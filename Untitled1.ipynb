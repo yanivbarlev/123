{
 "cells": [
  {
   "cell_type": "code",
   "execution_count": 1,
   "metadata": {},
   "outputs": [],
   "source": [
    "import glob\n",
    "import pandas as pd\n",
    "import numpy as np\n",
    "import pickle as pk\n",
    "import seaborn as sns\n",
    "import matplotlib.pyplot as plt\n",
    "import datetime\n",
    "import sklearn as sk\n",
    "import time\n",
    "from sklearn.model_selection import train_test_split\n",
    "import scikitplot as skplt\n",
    "from sklearn.model_selection import GridSearchCV\n",
    "from sklearn import metrics\n",
    "from sklearn.model_selection import cross_val_score\n",
    "import math\n",
    "\n",
    "\n",
    "pd.set_option('display.max_columns', 100)\n",
    "members = pd.read_csv(r'C:\\Users\\u_niv\\Downloads\\members_v3.csv')"
   ]
  },
  {
   "cell_type": "markdown",
   "metadata": {},
   "source": [
    "### Uploading the memebers data\n",
    "Members data includes the following fields:\n",
    "msno\n",
    "city\n",
    "bd: age. \n",
    "gender\n",
    "registered_via: registration method\n",
    "registration_init_time: format %Y%m%d\n",
    "expiration_date: format %Y%m%d, taken as a snapshot at which the member.csv is extracted. Not representing the actual churn behavior."
   ]
  },
  {
   "cell_type": "markdown",
   "metadata": {},
   "source": [
    "# The cutoff dates we will run are\n",
    "# 20170128 (Validation set)\n",
    "# 281216 (Test)\n",
    "# 261116 (Test)\n",
    "# 251016 (Test)\n",
    "# 230916 (Test)"
   ]
  },
  {
   "cell_type": "code",
   "execution_count": 2,
   "metadata": {},
   "outputs": [],
   "source": [
    "# Define cutoff date to create panel"
   ]
  },
  {
   "cell_type": "code",
   "execution_count": 3,
   "metadata": {},
   "outputs": [],
   "source": [
    "cutoff_date = pd.Timestamp('20170128') \n",
    "cutoff_date_start  =  cutoff_date - datetime.timedelta(days=31)\n",
    "cutoff_end_date =  cutoff_date + datetime.timedelta(days=31)"
   ]
  },
  {
   "cell_type": "code",
   "execution_count": 4,
   "metadata": {},
   "outputs": [
    {
     "name": "stdout",
     "output_type": "stream",
     "text": [
      "Used memory - \n",
      "\n",
      "Index                           80\n",
      "msno                      54155784\n",
      "city                      54155784\n",
      "bd                        54155784\n",
      "gender                    54155784\n",
      "registered_via            54155784\n",
      "registration_init_time    54155784\n",
      "dtype: int64\n",
      "Data types - \n",
      "\n",
      "msno                      object\n",
      "city                       int64\n",
      "bd                         int64\n",
      "gender                    object\n",
      "registered_via             int64\n",
      "registration_init_time     int64\n",
      "dtype: object\n",
      "Data description - \n",
      "\n",
      "               city            bd  registered_via  registration_init_time\n",
      "count  6.769473e+06  6.769473e+06    6.769473e+06            6.769473e+06\n",
      "mean   3.847358e+00  9.795794e+00    5.253069e+00            2.014518e+07\n",
      "std    5.478359e+00  1.792590e+01    2.361398e+00            2.318601e+04\n",
      "min    1.000000e+00 -7.168000e+03   -1.000000e+00            2.004033e+07\n",
      "25%    1.000000e+00  0.000000e+00    4.000000e+00            2.014042e+07\n",
      "50%    1.000000e+00  0.000000e+00    4.000000e+00            2.015101e+07\n",
      "75%    4.000000e+00  2.100000e+01    7.000000e+00            2.016060e+07\n",
      "max    2.200000e+01  2.016000e+03    1.900000e+01            2.017043e+07\n"
     ]
    }
   ],
   "source": [
    "print('Used memory - \\n\\n' + str(members.memory_usage()))\n",
    "print('Data types - \\n\\n' + str(members.dtypes))\n",
    "print('Data description - \\n\\n' + str(members.describe()))"
   ]
  },
  {
   "cell_type": "code",
   "execution_count": 5,
   "metadata": {},
   "outputs": [],
   "source": [
    "#Reducing memory size by downgrading data types\n",
    "members['city'] = members['city'].apply(pd.to_numeric,downcast='unsigned') #data 0-22\n",
    "members['registered_via'] = members['registered_via'].apply(pd.to_numeric,downcast='signed')"
   ]
  },
  {
   "cell_type": "code",
   "execution_count": 6,
   "metadata": {},
   "outputs": [
    {
     "name": "stdout",
     "output_type": "stream",
     "text": [
      "Used memory - \n",
      "\n",
      "Index                           80\n",
      "msno                      54155784\n",
      "city                      54155784\n",
      "bd                        54155784\n",
      "gender                    54155784\n",
      "registered_via            54155784\n",
      "registration_init_time    54155784\n",
      "dtype: int64\n",
      "Data types - \n",
      "\n",
      "msno                      object\n",
      "city                       int64\n",
      "bd                         int64\n",
      "gender                    object\n",
      "registered_via             int64\n",
      "registration_init_time     int64\n",
      "dtype: object\n",
      "Data description - \n",
      "\n",
      "               city            bd  registered_via  registration_init_time\n",
      "count  6.769473e+06  6.769473e+06    6.769473e+06            6.769473e+06\n",
      "mean   3.847358e+00  9.795794e+00    5.253069e+00            2.014518e+07\n",
      "std    5.478359e+00  1.792590e+01    2.361398e+00            2.318601e+04\n",
      "min    1.000000e+00 -7.168000e+03   -1.000000e+00            2.004033e+07\n",
      "25%    1.000000e+00  0.000000e+00    4.000000e+00            2.014042e+07\n",
      "50%    1.000000e+00  0.000000e+00    4.000000e+00            2.015101e+07\n",
      "75%    4.000000e+00  2.100000e+01    7.000000e+00            2.016060e+07\n",
      "max    2.200000e+01  2.016000e+03    1.900000e+01            2.017043e+07\n"
     ]
    }
   ],
   "source": [
    "print('Used memory - \\n\\n' + str(members.memory_usage()))\n",
    "print('Data types - \\n\\n' + str(members.dtypes))\n",
    "print('Data description - \\n\\n' + str(members.describe()))"
   ]
  },
  {
   "cell_type": "markdown",
   "metadata": {},
   "source": [
    "## Downcasting didn't save memory"
   ]
  },
  {
   "cell_type": "code",
   "execution_count": 7,
   "metadata": {},
   "outputs": [
    {
     "data": {
      "text/plain": [
       "6769473"
      ]
     },
     "execution_count": 7,
     "metadata": {},
     "output_type": "execute_result"
    }
   ],
   "source": [
    "len(set(members.msno)) "
   ]
  },
  {
   "cell_type": "markdown",
   "metadata": {},
   "source": [
    "### Number of lines is equal to number of rows which means that all msno are unique."
   ]
  },
  {
   "cell_type": "code",
   "execution_count": 8,
   "metadata": {},
   "outputs": [
    {
     "data": {
      "text/plain": [
       "<matplotlib.axes._subplots.AxesSubplot at 0x1b700322550>"
      ]
     },
     "execution_count": 8,
     "metadata": {},
     "output_type": "execute_result"
    },
    {
     "data": {
      "image/png": "[encoded data removed]",
      "text/plain": [
       "<Figure size 432x288 with 1 Axes>"
      ]
     },
     "metadata": {
      "needs_background": "light"
     },
     "output_type": "display_data"
    }
   ],
   "source": [
    "members.registration_init_time= pd.to_datetime(members.registration_init_time, format='%Y%m%d')\n",
    "sns.countplot(members.registration_init_time.apply(lambda x: x.year) )"
   ]
  },
  {
   "cell_type": "code",
   "execution_count": 9,
   "metadata": {},
   "outputs": [],
   "source": [
    "members = members[members.registration_init_time<cutoff_date] #Removing out of sample data"
   ]
  },
  {
   "cell_type": "markdown",
   "metadata": {},
   "source": [
    "# Pickling Members Dataset"
   ]
  },
  {
   "cell_type": "code",
   "execution_count": 10,
   "metadata": {},
   "outputs": [],
   "source": [
    "# members.to_pickle('members.pickle')"
   ]
  },
  {
   "cell_type": "markdown",
   "metadata": {},
   "source": [
    "# Adding Transaction Data"
   ]
  },
  {
   "cell_type": "code",
   "execution_count": 11,
   "metadata": {},
   "outputs": [],
   "source": [
    "trans = pd.read_csv(r'C:\\Users\\u_niv\\Downloads\\transactions.csv')"
   ]
  },
  {
   "cell_type": "code",
   "execution_count": 12,
   "metadata": {},
   "outputs": [],
   "source": [
    "trans.transaction_date= pd.to_datetime(trans.transaction_date, format='%Y%m%d')\n",
    "trans.membership_expire_date= pd.to_datetime(trans.membership_expire_date, format='%Y%m%d')\n"
   ]
  },
  {
   "cell_type": "code",
   "execution_count": 13,
   "metadata": {},
   "outputs": [],
   "source": [
    "trans_trimmed = trans[trans.msno.isin(members.msno)] #Keep only rows of users who are in our members dataset"
   ]
  },
  {
   "cell_type": "code",
   "execution_count": 14,
   "metadata": {},
   "outputs": [],
   "source": [
    "trans_trimmed = trans_trimmed[trans_trimmed.transaction_date<cutoff_date] #remove out of sample data"
   ]
  },
  {
   "cell_type": "code",
   "execution_count": 15,
   "metadata": {},
   "outputs": [
    {
     "data": {
      "text/plain": [
       "<matplotlib.axes._subplots.AxesSubplot at 0x1b8061760b8>"
      ]
     },
     "execution_count": 15,
     "metadata": {},
     "output_type": "execute_result"
    },
    {
     "data": {
      "image/png": "[encoded data removed]",
      "text/plain": [
       "<Figure size 432x288 with 1 Axes>"
      ]
     },
     "metadata": {
      "needs_background": "light"
     },
     "output_type": "display_data"
    }
   ],
   "source": [
    "sns.countplot(members.registration_init_time.apply(lambda x: x.year))"
   ]
  },
  {
   "cell_type": "markdown",
   "metadata": {},
   "source": [
    "# Creating Panel\n",
    "### Members whose expiration date is in the desired range (cutoff start date  - cutoff date) \n",
    "### The result will be stored as trans_trimmed"
   ]
  },
  {
   "cell_type": "code",
   "execution_count": 16,
   "metadata": {},
   "outputs": [],
   "source": [
    "trans_trimmed = trans_trimmed.sort_values(by=['msno','transaction_date']) #Sort by msno and transaction_date\n",
    "last_log = trans_trimmed.groupby(['msno']).last()\n",
    "panel = pd.DataFrame((last_log[(last_log.membership_expire_date<cutoff_date) & ( last_log.membership_expire_date>=cutoff_date_start)]).index)\n",
    "trans_trimmed = trans_trimmed[trans_trimmed.msno.isin(panel.msno)]\n",
    "#trans_trimmed.to_pickle('trans_trimmed.pickle')"
   ]
  },
  {
   "cell_type": "markdown",
   "metadata": {},
   "source": [
    "# Feature Eng."
   ]
  },
  {
   "cell_type": "markdown",
   "metadata": {},
   "source": [
    "### Number of members"
   ]
  },
  {
   "cell_type": "code",
   "execution_count": 17,
   "metadata": {},
   "outputs": [
    {
     "data": {
      "text/plain": [
       "77306"
      ]
     },
     "execution_count": 17,
     "metadata": {},
     "output_type": "execute_result"
    }
   ],
   "source": [
    "len(set(trans_trimmed['msno'])) #77306 Trnas has LT 2M we will trim the trans "
   ]
  },
  {
   "cell_type": "markdown",
   "metadata": {},
   "source": [
    "### Create  X\n",
    "### First variable : churn indicator - flag the times a user has churned in the past"
   ]
  },
  {
   "cell_type": "code",
   "execution_count": 18,
   "metadata": {},
   "outputs": [],
   "source": [
    "trans_trimmed = trans_trimmed.sort_values(by=['msno','transaction_date']) #Sort by msno and transaction_date\n",
    "#Shifting Transaction date forward (sft_regdate  - is shifted expiry date)\n",
    "trans_trimmed['sft_regdate'] = trans_trimmed.groupby(['msno'])['membership_expire_date'].shift(1) #Check if the difference is 30 days.\n",
    "trans_trimmed['over30']  =  pd.Series([ trans_trimmed['transaction_date']-(trans_trimmed['sft_regdate'])])[0] #The reason we had an issue was probably because the length was\n",
    "#differnt because of the NAN or flase\n",
    "trans_trimmed['daygap'] = trans_trimmed['over30']/np.timedelta64(1, 'D') #convvert to num of days\n",
    "trans_trimmed['30yn'] = trans_trimmed['daygap']>30  #if Gaps is over 30 it means there was a churn\n",
    "trans_trimmed = trans_trimmed.drop(['daygap','over30'],axis=1)"
   ]
  },
  {
   "cell_type": "code",
   "execution_count": 19,
   "metadata": {},
   "outputs": [],
   "source": [
    "# create a table with all users who churned =>have True in 30yn\n",
    "churn_30 = trans_trimmed[trans_trimmed['30yn']==True].msno #churners who had 31 day gap\n",
    "churn_30 = pd.DataFrame(churn_30) \n",
    "churn_30.drop_duplicates(inplace = True) #81459\n",
    "\n",
    "# Count number of times a user has churned\n",
    "churn_times = trans_trimmed[trans_trimmed['30yn']==True].groupby(['msno'])['30yn'].count()\n",
    "churn_times = pd.DataFrame(churn_times)\n",
    "churn_times.columns = churn_times.columns.str.replace('30yn','times_churn')\n",
    "churn_times = churn_times.reset_index()\n",
    "\n",
    "# Adding 1 to 'times_churn' for users whose last transaction was before  cutoff date and thus was not counted\n",
    "# Add last exp_date and num of churns to the members table\n",
    "temp = trans_trimmed.groupby(['msno']).last()\n",
    "\n",
    "X = trans_trimmed['msno'].unique()\n",
    "X = pd.DataFrame(X,columns=['msno'])\n",
    "X =  pd.merge(X, churn_times, how='left', on=['msno']) #Add 30 days churn to X\n",
    "\n",
    "X = X.fillna(0)\n"
   ]
  },
  {
   "cell_type": "markdown",
   "metadata": {},
   "source": [
    "### Calculating sum of actual active days"
   ]
  },
  {
   "cell_type": "code",
   "execution_count": 20,
   "metadata": {},
   "outputs": [],
   "source": [
    "trans_trimmed.sort_values(['msno','transaction_date'], inplace=True)\n",
    "trans_2d = trans_trimmed[['msno','transaction_date','membership_expire_date']]\n",
    "temp = pd.DataFrame()\n",
    "temp['msno'] = 0 \n",
    "temp['days'] = 0\n",
    "temp={}\n",
    "\n",
    "days =0\n",
    "i=0\n",
    "\n",
    "def old_transaction_data(i):\n",
    "    return trans_2d.iloc[i].msno, trans_2d.iloc[i].transaction_date, trans_2d.iloc[i].membership_expire_date\n",
    "\n",
    "def new_transaction_date(i):\n",
    "    return trans_2d.iloc[i].transaction_date, trans_2d.iloc[i].membership_expire_date\n",
    "\n",
    "while i<(len(trans_2d)-1):\n",
    "    old_msno, old_trans, old_exp = old_transaction_data(i)\n",
    "    if trans_2d.iloc[i].msno == trans_2d.iloc[i+1].msno: #next line is still the same member\n",
    "        i+=1\n",
    "        new_trans, new_exp = new_transaction_date(i)\n",
    "        if new_trans>old_exp: #old exp was complete\n",
    "            days+=(old_exp-old_trans).days #calculate the days in the last transaction till it ended\n",
    "            continue\n",
    "        else: #old was overlapped\n",
    "            days+= (new_trans - old_trans).days #calculate the days that passed since last trans\n",
    "            continue\n",
    "    else:   #moved to a new msno\n",
    "        days += (old_exp-old_trans).days\n",
    "        temp[old_msno] = days\n",
    "        #temp.append(pd.DataFrame({\"msno\":[old_msno],\"days\":[days]}))\n",
    "        days = 0\n",
    "        i+=1\n",
    "\n",
    "temp = pd.DataFrame.from_dict(temp, orient='index')\n",
    "temp.reset_index(inplace=True)\n",
    "temp = temp.rename(index=str, columns={\"index\": \"msno\", 0: \"days\"})\n",
    "X = X.merge(temp,how='left',on='msno')\n"
   ]
  },
  {
   "cell_type": "markdown",
   "metadata": {},
   "source": [
    "# More Features"
   ]
  },
  {
   "cell_type": "code",
   "execution_count": 21,
   "metadata": {},
   "outputs": [],
   "source": [
    "#Join date\n",
    "X = pd.merge(X,members, how='left',on='msno')\n",
    "X = X.rename(index=str, columns={\"registration_init_time\": \"join_date\"})\n"
   ]
  },
  {
   "cell_type": "code",
   "execution_count": 22,
   "metadata": {},
   "outputs": [],
   "source": [
    "# num of cancellations\n",
    "X=X.set_index('msno')\n",
    "X['num_cancel'] = trans_trimmed.groupby(['msno'])['is_cancel'].sum()\n"
   ]
  },
  {
   "cell_type": "code",
   "execution_count": 23,
   "metadata": {},
   "outputs": [],
   "source": [
    "#7 Num transactions\n",
    "X['cnt_trans'] = trans_trimmed.groupby(['msno'])['msno'].count()"
   ]
  },
  {
   "cell_type": "code",
   "execution_count": 24,
   "metadata": {},
   "outputs": [],
   "source": [
    "#8 Total price\n",
    "X['tot_price'] = trans_trimmed.groupby(['msno'])['plan_list_price'].sum()"
   ]
  },
  {
   "cell_type": "code",
   "execution_count": 25,
   "metadata": {},
   "outputs": [],
   "source": [
    "#9 Total Actual Paid\n",
    "X['tot_paid'] = trans_trimmed.groupby(['msno'])['actual_amount_paid'].sum()\n"
   ]
  },
  {
   "cell_type": "code",
   "execution_count": 26,
   "metadata": {},
   "outputs": [],
   "source": [
    "#10 Count paymnents\n",
    "temp = trans_trimmed[trans_trimmed.actual_amount_paid >0]\n",
    "X['ct_pmt'] = temp.groupby(['msno'])['actual_amount_paid'].count()\n"
   ]
  },
  {
   "cell_type": "code",
   "execution_count": 27,
   "metadata": {},
   "outputs": [],
   "source": [
    "#11 Num plans <=31 days\n",
    "temp = trans_trimmed[trans_trimmed.actual_amount_paid <=31]\n",
    "X['ct_pln30'] = temp.groupby(['msno'])['msno'].count()\n"
   ]
  },
  {
   "cell_type": "code",
   "execution_count": 28,
   "metadata": {},
   "outputs": [],
   "source": [
    "#12 Num plans >31 days\n",
    "temp = trans_trimmed[trans_trimmed.actual_amount_paid >31]\n",
    "X['ct_pln_ovr30'] = temp.groupby(['msno'])['msno'].count()\n"
   ]
  },
  {
   "cell_type": "code",
   "execution_count": 29,
   "metadata": {},
   "outputs": [],
   "source": [
    "#13 Num of is_auto_renew transactions\n",
    "X['cnt_autorenew'] = trans_trimmed.groupby(['msno'])['is_auto_renew'].sum()\n"
   ]
  },
  {
   "cell_type": "code",
   "execution_count": 30,
   "metadata": {},
   "outputs": [],
   "source": [
    "#14 Last transaction weekday\n",
    "temp = trans_trimmed.groupby(['msno'])['transaction_date'].max()\n",
    "temp = pd.DataFrame(temp)\n",
    "\n",
    "def weekday (x):\n",
    "    return datetime.datetime.weekday(x)    \n",
    "\n",
    "temp.transaction_date = temp.transaction_date.apply(weekday)\n",
    "X = pd.merge(X,temp,how='left',on='msno')\n",
    "X.rename(columns={'transaction_date':'last_trans_weekday'}, inplace=True)\n",
    "\n",
    "\n"
   ]
  },
  {
   "cell_type": "code",
   "execution_count": 31,
   "metadata": {},
   "outputs": [],
   "source": [
    "#15 % cancellation transactions out of total transactions\n",
    "X['can_ratio'] = X.num_cancel / X.cnt_trans"
   ]
  },
  {
   "cell_type": "code",
   "execution_count": 32,
   "metadata": {},
   "outputs": [],
   "source": [
    "#16 Highest + lowest + mean  plan_days\n",
    "X['plandays_max'] = trans_trimmed.groupby(['msno'])['payment_plan_days'].max()\n",
    "X['plandays_min'] = trans_trimmed.groupby(['msno'])['payment_plan_days'].min()\n",
    "X['plandays_mean'] = trans_trimmed.groupby(['msno'])['payment_plan_days'].mean()\n",
    "X['plandays_std'] = trans_trimmed.groupby(['msno'])['payment_plan_days'].std()"
   ]
  },
  {
   "cell_type": "code",
   "execution_count": 33,
   "metadata": {},
   "outputs": [],
   "source": [
    "#17 number of unique plan days\n",
    "X['pln_uniq'] = trans_trimmed.groupby(['msno'])['payment_plan_days'].nunique()"
   ]
  },
  {
   "cell_type": "code",
   "execution_count": 34,
   "metadata": {},
   "outputs": [],
   "source": [
    "#18  unique pmt methods\n",
    "X['pmt_method_num'] = trans_trimmed.groupby(['msno'])['payment_method_id'].nunique()"
   ]
  },
  {
   "cell_type": "code",
   "execution_count": 35,
   "metadata": {},
   "outputs": [],
   "source": [
    "#19 Higheset & lowest & Mean plan list price\n",
    "X['plan_list_price_max'] = trans_trimmed.groupby(['msno'])['plan_list_price'].max()\n",
    "X['plan_list_price_min'] = trans_trimmed.groupby(['msno'])['plan_list_price'].min()\n",
    "X['plan_list_price_mean'] = trans_trimmed.groupby(['msno'])['plan_list_price'].mean()\n",
    "X['plan_list_price_std'] = trans_trimmed.groupby(['msno'])['plan_list_price'].std()"
   ]
  },
  {
   "cell_type": "code",
   "execution_count": 36,
   "metadata": {},
   "outputs": [],
   "source": [
    "#20 Higheset & lowest & MEAN actuak paid\n",
    "X['actual_amount_paid_max'] = trans_trimmed.groupby(['msno'])['actual_amount_paid'].max()\n",
    "X['actual_amount_paid_min'] = trans_trimmed.groupby(['msno'])['actual_amount_paid'].min()\n",
    "X['actual_amount_paid_mean'] = trans_trimmed.groupby(['msno'])['actual_amount_paid'].mean()\n",
    "X['actual_amount_paid_std'] = trans_trimmed.groupby(['msno'])['actual_amount_paid'].std()\n",
    "X['actual_amount_paid_cnt'] = trans_trimmed.groupby(['msno'])['actual_amount_paid'].count()"
   ]
  },
  {
   "cell_type": "code",
   "execution_count": 37,
   "metadata": {},
   "outputs": [],
   "source": [
    "#20 number of  auto renew\n",
    "X['auto_renew_cnt'] = trans_trimmed.groupby(['msno'])['is_auto_renew'].sum()"
   ]
  },
  {
   "cell_type": "code",
   "execution_count": 38,
   "metadata": {},
   "outputs": [],
   "source": [
    "#21 last transaction data\n",
    "trans_trimmed = trans_trimmed.sort_values(by=['msno','transaction_date']) #Sort by msno and transaction_date\n",
    "temp = trans_trimmed.groupby(['msno']).last()\n",
    "temp = temp.drop(['sft_regdate','30yn'], axis=1)\n",
    "temp.columns = ['last_pmt_mtd','last_pln_days','last_plan_price','last_paid','last_auto_renew', 'last_trans_date','last_exp_date','last_is_cancel']\n",
    "      \n",
    "X = X.merge(temp,how='left',on='msno')"
   ]
  },
  {
   "cell_type": "code",
   "execution_count": 39,
   "metadata": {},
   "outputs": [],
   "source": [
    "#22 time from first to last transaction\n",
    "for i in X.index:\n",
    "    end= X.last_trans_date[i]\n",
    "    start = X.join_date[i]\n",
    "    X.at[i,'days_first_last_trans'] = (end-start).days"
   ]
  },
  {
   "cell_type": "code",
   "execution_count": 40,
   "metadata": {},
   "outputs": [],
   "source": [
    "#23 Days since registation\n",
    "X['days_since_reg'] = (cutoff_date-X['join_date']).dt.days\n"
   ]
  },
  {
   "cell_type": "code",
   "execution_count": 41,
   "metadata": {},
   "outputs": [],
   "source": [
    "#23 - Days since last transaction\n",
    "X['days_since_last_trans'] = (cutoff_date - X.last_trans_date).dt.days"
   ]
  },
  {
   "cell_type": "code",
   "execution_count": 42,
   "metadata": {},
   "outputs": [],
   "source": [
    "#24 - Days before is_churn\n",
    "X['days_before_churn'] =31 -  (cutoff_date-X.last_exp_date).dt.days"
   ]
  },
  {
   "cell_type": "markdown",
   "metadata": {},
   "source": [
    "# Loading Log files"
   ]
  },
  {
   "cell_type": "code",
   "execution_count": 43,
   "metadata": {},
   "outputs": [],
   "source": [
    "log_trimmed = pd.DataFrame()\n",
    "for gm_chunk in pd.read_csv(r'C:\\Users\\u_niv\\Downloads\\user_logs.csv',chunksize=10000000):\n",
    "    log_trimmed = pd.concat([log_trimmed,gm_chunk[gm_chunk.msno.isin(X.index)]])"
   ]
  },
  {
   "cell_type": "code",
   "execution_count": 44,
   "metadata": {},
   "outputs": [],
   "source": [
    "log_trimmed.date = pd.to_datetime(log_trimmed.date , format='%Y%m%d')"
   ]
  },
  {
   "cell_type": "code",
   "execution_count": 45,
   "metadata": {},
   "outputs": [],
   "source": [
    "log_trimmed = log_trimmed[log_trimmed.date<cutoff_date]"
   ]
  },
  {
   "cell_type": "code",
   "execution_count": 46,
   "metadata": {},
   "outputs": [],
   "source": [
    "#remove negative seconds records\n",
    "log_trimmed = log_trimmed[log_trimmed.total_secs>0]"
   ]
  },
  {
   "cell_type": "code",
   "execution_count": 47,
   "metadata": {},
   "outputs": [],
   "source": [
    "def remove_outliers(sr):    #removing outliers of a list using 3 std limit\n",
    "    return abs(sr- sr.mean() < 3 * sr.std())"
   ]
  },
  {
   "cell_type": "code",
   "execution_count": 48,
   "metadata": {},
   "outputs": [],
   "source": [
    "#Removing outliers\n",
    "for i in range(2,7):\n",
    "    log_trimmed  = log_trimmed[remove_outliers(log_trimmed.iloc[:,i])]\n",
    "log_trimmed  = log_trimmed[remove_outliers(log_trimmed['total_secs'])]"
   ]
  },
  {
   "cell_type": "markdown",
   "metadata": {},
   "source": [
    "# Log data features"
   ]
  },
  {
   "cell_type": "code",
   "execution_count": 49,
   "metadata": {},
   "outputs": [],
   "source": [
    "\n",
    "#Sum of days logged in\n",
    "log_trimmed.sort_values(by=['msno','date'],inplace = True)\n",
    "#log_trimmed.to_pickle('log_trimmed.pickle')\n",
    "X['days_logged'] = log_trimmed.groupby(['msno'])['date'].count()\n",
    "X['last_logged'] = log_trimmed.groupby(['msno'])['date'].last()\n",
    "X['days_since_last_log'] = (cutoff_date - X['last_logged']).dt.days\n",
    "X['last_logged'] = log_trimmed.groupby(['msno'])['date'].last()\n",
    "\n",
    "X[['sum_25','sum_50','sum_75','sum_985','sum_100','sum_unq','sum_seconds']] = log_trimmed.groupby(['msno'])['num_25','num_50','num_75','num_985','num_100','num_unq','total_secs'].sum()\n",
    "X[['mean_25','mean_50','mean_75','mean_985','mean_100','mean_unq','mean_seconds']]  =  log_trimmed.groupby(['msno'])['num_25','num_50','num_75','num_985','num_100','num_unq','total_secs'].mean()\n",
    "X[['max_25','max_50','max_75','max_985','max_100','max_unq','max_seconds']] = log_trimmed.groupby(['msno'])['num_25','num_50','num_75','num_985','num_100','num_unq','total_secs'].max()\n",
    "X[['min_25','min_50','min_75','min_985','min_100','min_unq','min_seconds']] =log_trimmed.groupby(['msno'])['num_25','num_50','num_75','num_985','num_100','num_unq','total_secs'].min()\n",
    "X[['std_25','std_50','std_75','std_985','std_100','std_unq','std_seconds']]  = log_trimmed.groupby(['msno'])['num_25','num_50','num_75','num_985','num_100','num_unq','total_secs'].std()\n",
    "\n",
    "#number of days loggedin past 30 days\n",
    "temp = log_trimmed[(cutoff_date- log_trimmed.date).dt.days<30]\n",
    "X['days_last_30'] = temp.groupby(['msno'])['msno'].count()\n",
    "\n",
    "#number of days loggedin past 10 days\n",
    "temp = log_trimmed[(cutoff_date- log_trimmed.date).dt.days<10]\n",
    "X['days_last_10'] = temp.groupby(['msno'])['msno'].count()\n",
    "#number of seconds played over past 30 days\n",
    "temp = log_trimmed[(cutoff_date- log_trimmed.date).dt.days<30]\n",
    "X['secs_last_30'] = temp.groupby(['msno'])['total_secs'].sum()\n",
    "\n",
    "#seconds played last 10 days\n",
    "temp = log_trimmed[(cutoff_date- log_trimmed.date).dt.days<10]\n",
    "X['secs_last_10'] = temp.groupby(['msno'])['total_secs'].sum()\n"
   ]
  },
  {
   "cell_type": "markdown",
   "metadata": {},
   "source": [
    "# Creating Y"
   ]
  },
  {
   "cell_type": "code",
   "execution_count": 50,
   "metadata": {},
   "outputs": [
    {
     "name": "stderr",
     "output_type": "stream",
     "text": [
      "C:\\Users\\u_niv\\Anaconda3\\lib\\site-packages\\ipykernel_launcher.py:3: SettingWithCopyWarning: \n",
      "A value is trying to be set on a copy of a slice from a DataFrame\n",
      "\n",
      "See the caveats in the documentation: http://pandas.pydata.org/pandas-docs/stable/indexing.html#indexing-view-versus-copy\n",
      "  This is separate from the ipykernel package so we can avoid doing imports until\n"
     ]
    }
   ],
   "source": [
    "###leave only dates after cutoff\n",
    "trans_y = trans[(trans.transaction_date>=cutoff_date) & (trans.transaction_date<=cutoff_end_date)]\n",
    "trans_y.sort_values(['msno','transaction_date'],inplace=True)\n",
    "y = pd.DataFrame(X.index) # set Y msno as X msno\n",
    "y.set_index('msno',inplace=True)\n",
    "y['ind'] = trans_y.groupby(['msno'])['transaction_date'].first() # The First date with transaction in the following 30 days \n",
    "#to learn if there was an activity prior to 30 days after expiration date.\n",
    "y= y.fillna(0)\n",
    "y = y.ind.apply(lambda x: 1 if x!=0 else 0)\n",
    "y.to_pickle('y.pickle')"
   ]
  },
  {
   "cell_type": "markdown",
   "metadata": {},
   "source": [
    "# Cleaning the data"
   ]
  },
  {
   "cell_type": "code",
   "execution_count": 51,
   "metadata": {},
   "outputs": [
    {
     "data": {
      "text/plain": [
       "city\n",
       "19    0.000207\n",
       "20    0.000841\n",
       "16    0.001319\n",
       "7     0.003402\n",
       "17    0.006338\n",
       "3     0.007774\n",
       "21    0.009482\n",
       "10    0.010348\n",
       "18    0.010827\n",
       "11    0.013181\n",
       "8     0.013337\n",
       "12    0.019468\n",
       "14    0.028652\n",
       "6     0.039078\n",
       "9     0.049492\n",
       "22    0.062647\n",
       "15    0.063462\n",
       "4     0.072815\n",
       "5     0.121802\n",
       "13    0.144232\n",
       "1     0.321295\n",
       "Name: city, dtype: float64"
      ]
     },
     "execution_count": 51,
     "metadata": {},
     "output_type": "execute_result"
    }
   ],
   "source": [
    "#City\n",
    "X.groupby(['city'])['city'].count().sort_values()/len(X)"
   ]
  },
  {
   "cell_type": "markdown",
   "metadata": {},
   "source": [
    "### I'll bin using same size bins [1,13&5,rest]  ~33% each"
   ]
  },
  {
   "cell_type": "code",
   "execution_count": 52,
   "metadata": {},
   "outputs": [],
   "source": [
    "X.city = X.city.apply(lambda x: 'A' if x==1 else 'B' if (x==5) or (x==13) else 'C')"
   ]
  },
  {
   "cell_type": "code",
   "execution_count": 53,
   "metadata": {},
   "outputs": [],
   "source": [
    "### Creating dummy variables"
   ]
  },
  {
   "cell_type": "code",
   "execution_count": 54,
   "metadata": {},
   "outputs": [],
   "source": [
    "just_dummy = pd.get_dummies(X.city)\n",
    "just_dummy= just_dummy.add_prefix('city_')\n",
    "X = X.join(just_dummy,how='left')\n",
    "X = X.drop('city',axis=1)\n"
   ]
  },
  {
   "cell_type": "markdown",
   "metadata": {},
   "source": [
    "### BD - Age of user"
   ]
  },
  {
   "cell_type": "code",
   "execution_count": 55,
   "metadata": {},
   "outputs": [],
   "source": [
    "# all ages overf 80 and below 10 will be transformed to 0\n",
    "len(X.bd[(X.bd>10) & (X.bd<80)]) #50260 are in the range of normal values\n",
    "X.bd.apply(lambda x: 0 if (x<10) or (x>80) else x)\n",
    "X.bd = X.bd.fillna(0)"
   ]
  },
  {
   "cell_type": "markdown",
   "metadata": {},
   "source": [
    "### 39% are nan we'll change them to 'other'"
   ]
  },
  {
   "cell_type": "markdown",
   "metadata": {},
   "source": [
    "### Gender"
   ]
  },
  {
   "cell_type": "code",
   "execution_count": 56,
   "metadata": {},
   "outputs": [
    {
     "data": {
      "text/plain": [
       "0.34961063824282723"
      ]
     },
     "execution_count": 56,
     "metadata": {},
     "output_type": "execute_result"
    }
   ],
   "source": [
    "X.gender.isna().sum()/len(X) #35% are nan we'll change to 'other'"
   ]
  },
  {
   "cell_type": "code",
   "execution_count": 57,
   "metadata": {},
   "outputs": [],
   "source": [
    "def categorizing(df,sr,name): #df, sr - sereis (df.sr), name = name of the new variable\n",
    "    just_dummy = pd.get_dummies(sr)\n",
    "    just_dummy= just_dummy.add_prefix(name +'_')\n",
    "    df = df.join(just_dummy,how='left')\n",
    "    df = df.drop(name,axis=1)\n",
    "    return df"
   ]
  },
  {
   "cell_type": "code",
   "execution_count": 58,
   "metadata": {},
   "outputs": [],
   "source": [
    "X.gender.apply(lambda x: 'unknown' if pd.isnull(x) else x)\n",
    "X = categorizing(X,X.gender,'gender')"
   ]
  },
  {
   "cell_type": "markdown",
   "metadata": {},
   "source": [
    "### Registered Via"
   ]
  },
  {
   "cell_type": "code",
   "execution_count": 59,
   "metadata": {},
   "outputs": [
    {
     "data": {
      "text/plain": [
       "registered_via\n",
       "13    0.003143\n",
       "4     0.146948\n",
       "7     0.168409\n",
       "3     0.239981\n",
       "9     0.441518\n",
       "Name: registered_via, dtype: float64"
      ]
     },
     "execution_count": 59,
     "metadata": {},
     "output_type": "execute_result"
    }
   ],
   "source": [
    "X.groupby(['registered_via'])['registered_via'].count().sort_values()/len(X)"
   ]
  },
  {
   "cell_type": "markdown",
   "metadata": {},
   "source": [
    "### I'll add every reg_via which is not 4,7,3,9 to 9"
   ]
  },
  {
   "cell_type": "code",
   "execution_count": 60,
   "metadata": {},
   "outputs": [],
   "source": [
    "X['registered_via'] = X['registered_via'].apply(lambda x: 9 if x not in [3,4,7,9] else x)\n",
    "X = categorizing(X,X.registered_via,'registered_via')"
   ]
  },
  {
   "cell_type": "markdown",
   "metadata": {},
   "source": [
    "### Change na to 0"
   ]
  },
  {
   "cell_type": "code",
   "execution_count": 61,
   "metadata": {},
   "outputs": [],
   "source": [
    "X.fillna(0,inplace = True)"
   ]
  },
  {
   "cell_type": "code",
   "execution_count": 62,
   "metadata": {},
   "outputs": [
    {
     "data": {
      "text/plain": [
       "'\\nFeatuers-\\nX.msno - unique user identifier\\nX.times_churn - number of timese a user has churned\\nX.join_date  - registration date from members table\\nX.days - Total Days on plan\\nx.city - nominal  - dummy city_A,B,C\\nX.bd - Age of user\\nX.gender - Gender\\nX.registrated_via - how the user registered\\nx.num_cancel - number of cancellation in trans table\\nX.cnt_trans - number of transactions\\nX.tot_price - total list price\\nX.tot_paid - Total actual paid\\nX.ct_pmt - count of actual payments\\nX.ct_plan30 - number of plans 0-30 days\\nX.ct_pln_ovr30 - number of plans over 30\\nX.cnt_autorenew  -num of autorenew\\nX.last_trans_weekday - the weekday of the last transaction\\nX.can_ratio - Cancelations out of total transactions\\nX.plandays_max/min/mean/std - descriptive statistics of # days of plans\\nX.pmt_method_num - number of unique payment methods\\nX. pln_uniq - unique plan days\\nX.plan_list_price_max/min/mean/std - plan list price statistics\\nX.actual_amount_paid_max/min/mea/std - Actual amnt paid stats\\nX.actual_amount_paid_cnt - unique amount paid\\nX.auto_renew_cnt - num of auto renewls\\nX.last_pmt_mtd - last used payment method\\nX.last_pln_days - num of days in last plan\\nX.last_plan_price  - price of last plan\\nX.last_paid - last payment\\nX.last_auto_renew - was last transaction autorenew\\nX.last_trans_date - date of last trans\\nX.last_exp_date - Expiration date of last trans\\nX.last_is_cancel - is last transaction cancellation\\nX.days_first_last_trans - days from first to last transaction\\nX.days_since_reg - days since registration\\nX.days_since_last_trans - days since last transaction\\nX.days_before_churn - Number of days left before flagged churn\\nX.days_logged - \\nX.last_logged\\nX.days_since_last_log\\nX.sum_25/sum_50/sum_75/sum_985/sum_100 - sum songs played till %\\nX.sum_unq - sum of unique songs\\nX.sum_seconds - total seconds played\\nX.mean_25/mean_50/mean_75/mean_985/mean_100 - means songs per day played till %\\nX.mean_unq - mean unique songs per day\\nX.mean_seconds - means seconds played per day\\nX.max_25/max_50/max_75/max_985/max_100 - max songs per day till %\\nX.max_unq - max of unique songs in a session\\nX.max_seconds - max seconds played per day\\nX.min_25/min_50/min_75/min_985/min_100\\nX.min_unq - min of unique songs\\nX.min_seconds - min seconds played per day\\nX.std_25/std_50/std_75/std_985/std_100\\nX.std_unq - std of unique songs\\nX.std_seconds - stdseconds played per day\\nX.days_last_30/days_last_10 - days logged in last 30/10\\nX.secs_last_30/secs_last_10 - seconds played last 30 /10 days\\n'"
      ]
     },
     "execution_count": 62,
     "metadata": {},
     "output_type": "execute_result"
    }
   ],
   "source": [
    "# List of all the dimensions we've created in X\n",
    "'''\n",
    "Featuers-\n",
    "X.msno - unique user identifier\n",
    "X.times_churn - number of timese a user has churned\n",
    "X.join_date  - registration date from members table\n",
    "X.days - Total Days on plan\n",
    "x.city - nominal  - dummy city_A,B,C\n",
    "X.bd - Age of user\n",
    "X.gender - Gender\n",
    "X.registrated_via - how the user registered\n",
    "x.num_cancel - number of cancellation in trans table\n",
    "X.cnt_trans - number of transactions\n",
    "X.tot_price - total list price\n",
    "X.tot_paid - Total actual paid\n",
    "X.ct_pmt - count of actual payments\n",
    "X.ct_plan30 - number of plans 0-30 days\n",
    "X.ct_pln_ovr30 - number of plans over 30\n",
    "X.cnt_autorenew  -num of autorenew\n",
    "X.last_trans_weekday - the weekday of the last transaction\n",
    "X.can_ratio - Cancelations out of total transactions\n",
    "X.plandays_max/min/mean/std - descriptive statistics of # days of plans\n",
    "X.pmt_method_num - number of unique payment methods\n",
    "X. pln_uniq - unique plan days\n",
    "X.plan_list_price_max/min/mean/std - plan list price statistics\n",
    "X.actual_amount_paid_max/min/mea/std - Actual amnt paid stats\n",
    "X.actual_amount_paid_cnt - unique amount paid\n",
    "X.auto_renew_cnt - num of auto renewls\n",
    "X.last_pmt_mtd - last used payment method\n",
    "X.last_pln_days - num of days in last plan\n",
    "X.last_plan_price  - price of last plan\n",
    "X.last_paid - last payment\n",
    "X.last_auto_renew - was last transaction autorenew\n",
    "X.last_trans_date - date of last trans\n",
    "X.last_exp_date - Expiration date of last trans\n",
    "X.last_is_cancel - is last transaction cancellation\n",
    "X.days_first_last_trans - days from first to last transaction\n",
    "X.days_since_reg - days since registration\n",
    "X.days_since_last_trans - days since last transaction\n",
    "X.days_before_churn - Number of days left before flagged churn\n",
    "X.days_logged - \n",
    "X.last_logged\n",
    "X.days_since_last_log\n",
    "X.sum_25/sum_50/sum_75/sum_985/sum_100 - sum songs played till %\n",
    "X.sum_unq - sum of unique songs\n",
    "X.sum_seconds - total seconds played\n",
    "X.mean_25/mean_50/mean_75/mean_985/mean_100 - means songs per day played till %\n",
    "X.mean_unq - mean unique songs per day\n",
    "X.mean_seconds - means seconds played per day\n",
    "X.max_25/max_50/max_75/max_985/max_100 - max songs per day till %\n",
    "X.max_unq - max of unique songs in a session\n",
    "X.max_seconds - max seconds played per day\n",
    "X.min_25/min_50/min_75/min_985/min_100\n",
    "X.min_unq - min of unique songs\n",
    "X.min_seconds - min seconds played per day\n",
    "X.std_25/std_50/std_75/std_985/std_100\n",
    "X.std_unq - std of unique songs\n",
    "X.std_seconds - stdseconds played per day\n",
    "X.days_last_30/days_last_10 - days logged in last 30/10\n",
    "X.secs_last_30/secs_last_10 - seconds played last 30 /10 days\n",
    "'''"
   ]
  },
  {
   "cell_type": "code",
   "execution_count": 63,
   "metadata": {},
   "outputs": [],
   "source": [
    "X.to_pickle('X20170128.pickle')"
   ]
  },
  {
   "cell_type": "code",
   "execution_count": 64,
   "metadata": {},
   "outputs": [],
   "source": [
    "y.to_pickle('y20170128.pickle')"
   ]
  },
  {
   "cell_type": "markdown",
   "metadata": {},
   "source": [
    "# End of data preprocessing\n",
    "## We have run this procedure 4 times to create 4 panels:\n",
    "### X230916\n",
    "### X251016\n",
    "### X261116\n",
    "### X28012017 - Will be used as validation set\n",
    "### X28122016\n",
    "### and their corresponding y's\n",
    "# Now we will upload the 2016 files into X and y and divide them into training and test sets"
   ]
  },
  {
   "cell_type": "code",
   "execution_count": 2,
   "metadata": {},
   "outputs": [
    {
     "name": "stdout",
     "output_type": "stream",
     "text": [
      "y230916.pickle\n",
      "count    112399.000000\n",
      "mean          0.189575\n",
      "std           0.391966\n",
      "min           0.000000\n",
      "25%           0.000000\n",
      "50%           0.000000\n",
      "75%           0.000000\n",
      "max           1.000000\n",
      "Name: ind, dtype: float64\n",
      "y251016.pickle\n",
      "count    61493.000000\n",
      "mean         0.304685\n",
      "std          0.460278\n",
      "min          0.000000\n",
      "25%          0.000000\n",
      "50%          0.000000\n",
      "75%          1.000000\n",
      "max          1.000000\n",
      "Name: ind, dtype: float64\n",
      "y261116.pickle\n",
      "count    210986.000000\n",
      "mean          0.104296\n",
      "std           0.305645\n",
      "min           0.000000\n",
      "25%           0.000000\n",
      "50%           0.000000\n",
      "75%           0.000000\n",
      "max           1.000000\n",
      "Name: ind, dtype: float64\n",
      "y28122016.pickle\n",
      "count    111341.000000\n",
      "mean          0.292139\n",
      "std           0.454748\n",
      "min           0.000000\n",
      "25%           0.000000\n",
      "50%           0.000000\n",
      "75%           1.000000\n",
      "max           1.000000\n",
      "Name: ind, dtype: float64\n"
     ]
    }
   ],
   "source": [
    "X= pd.DataFrame()\n",
    "for i in glob.glob(\"X2*.pickle\"):\n",
    "    data = pd.read_pickle(i)\n",
    "    data['index2'] = i[1:]\n",
    "    data.reset_index(inplace=True)\n",
    "    X = pd.concat([X,data],axis=0)\n",
    "\n",
    "    \n",
    "\n",
    "y= pd.DataFrame()\n",
    "for i in glob.glob(\"y2*.pickle\"):\n",
    "    data = pd.read_pickle(i)\n",
    "    print(i)\n",
    "    print(data.describe())\n",
    "    data = pd.DataFrame(data) \n",
    "    data['index2'] = i[1:]\n",
    "    y = pd.concat([y,data],axis=0)\n",
    "    \n",
    "\n",
    "#y= pd.DataFrame()\n",
    "#for i in glob.glob(r\"C:\\Users\\u_niv\\Dropbox\\Yaniv - Personal\\Math and Computer science\\Data science\\Project\\churn_project_final\\y*2016.pickle\"):\n",
    "#    data = pd.read_pickle(i)\n",
    "#    data = pd.DataFrame(data) \n",
    "#    data['index2'] = i[1:]\n",
    "#    y = pd.concat([y,data],axis=0)\n"
   ]
  },
  {
   "cell_type": "markdown",
   "metadata": {},
   "source": [
    "## We can see from the mean of each month that the churn rate varies significantly from 10% to 30%\n",
    "\n"
   ]
  },
  {
   "cell_type": "markdown",
   "metadata": {},
   "source": [
    "### Because the same user can appear in more than 1 group (if his membership ended once aon October and then again on Nov')\n",
    "### We'll use an index which will include both the user id and the month in which his membership ended."
   ]
  },
  {
   "cell_type": "code",
   "execution_count": 5,
   "metadata": {
    "scrolled": false
   },
   "outputs": [
    {
     "data": {
      "text/html": [
       "<div>\n",
       "<style scoped>\n",
       "    .dataframe tbody tr th:only-of-type {\n",
       "        vertical-align: middle;\n",
       "    }\n",
       "\n",
       "    .dataframe tbody tr th {\n",
       "        vertical-align: top;\n",
       "    }\n",
       "\n",
       "    .dataframe thead th {\n",
       "        text-align: right;\n",
       "    }\n",
       "</style>\n",
       "<table border=\"1\" class=\"dataframe\">\n",
       "  <thead>\n",
       "    <tr style=\"text-align: right;\">\n",
       "      <th></th>\n",
       "      <th></th>\n",
       "      <th>ind</th>\n",
       "    </tr>\n",
       "    <tr>\n",
       "      <th>msno</th>\n",
       "      <th>index2</th>\n",
       "      <th></th>\n",
       "    </tr>\n",
       "  </thead>\n",
       "  <tbody>\n",
       "    <tr>\n",
       "      <th>+++FOrTS7ab3tIgIh8eWwX4FqRv8w/FoiOuyXsFvphY=</th>\n",
       "      <th>230916.pickle</th>\n",
       "      <td>0</td>\n",
       "    </tr>\n",
       "    <tr>\n",
       "      <th>++02XbtviomSxcIBUHMOiJkjRxdicTXSfiVqLdsr5lo=</th>\n",
       "      <th>28122016.pickle</th>\n",
       "      <td>0</td>\n",
       "    </tr>\n",
       "    <tr>\n",
       "      <th>++096narOxHnDPtbtUtB4WDqDy8EJacQypdqDYBHmmY=</th>\n",
       "      <th>28122016.pickle</th>\n",
       "      <td>0</td>\n",
       "    </tr>\n",
       "    <tr>\n",
       "      <th>++0GCV3WGMjibrwCnDuVZXMoIxs1mnMRaD7rFJFU2Ho=</th>\n",
       "      <th>28122016.pickle</th>\n",
       "      <td>0</td>\n",
       "    </tr>\n",
       "    <tr>\n",
       "      <th>++0JQqGo/czgqG5qCY31TYkzV7WUMf2QWAS+OeIs//o=</th>\n",
       "      <th>28122016.pickle</th>\n",
       "      <td>0</td>\n",
       "    </tr>\n",
       "    <tr>\n",
       "      <th>++0XxUiOHZeYOgVDnJlFiXIp3Y7l+x4NLlaSEMOBrFI=</th>\n",
       "      <th>28122016.pickle</th>\n",
       "      <td>0</td>\n",
       "    </tr>\n",
       "    <tr>\n",
       "      <th>++1eOqCPRmzyBjMGvAJEaurjI1AFz4Mify6fk2eecbY=</th>\n",
       "      <th>261116.pickle</th>\n",
       "      <td>0</td>\n",
       "    </tr>\n",
       "    <tr>\n",
       "      <th>++2KAIaZigu6bS4t+s7o/TS1Ki6IVWZBnJCh5day67c=</th>\n",
       "      <th>28122016.pickle</th>\n",
       "      <td>0</td>\n",
       "    </tr>\n",
       "    <tr>\n",
       "      <th>++4qZOZ7rISM4nY9xcUVPweG0A4Z12cGwzjZHmRzr3g=</th>\n",
       "      <th>261116.pickle</th>\n",
       "      <td>0</td>\n",
       "    </tr>\n",
       "    <tr>\n",
       "      <th>++5HPICzApqAq9mYdGB/mdke0MbubM8yUKLOmrPt4xU=</th>\n",
       "      <th>251016.pickle</th>\n",
       "      <td>0</td>\n",
       "    </tr>\n",
       "    <tr>\n",
       "      <th>++5vjwrUMXiUOMeSWZdoW8RNHI2XbJRjv4E1e4vWCAI=</th>\n",
       "      <th>261116.pickle</th>\n",
       "      <td>0</td>\n",
       "    </tr>\n",
       "    <tr>\n",
       "      <th>++9pNNV1bCjmpCZ3tQl588RnLNb+KqT69giup8n+aBo=</th>\n",
       "      <th>230916.pickle</th>\n",
       "      <td>0</td>\n",
       "    </tr>\n",
       "    <tr>\n",
       "      <th rowspan=\"2\" valign=\"top\">++AH7m/EQ4iKe6wSlfO/xXAJx50p+fCeTyF90GoE9Pg=</th>\n",
       "      <th>230916.pickle</th>\n",
       "      <td>1</td>\n",
       "    </tr>\n",
       "    <tr>\n",
       "      <th>251016.pickle</th>\n",
       "      <td>1</td>\n",
       "    </tr>\n",
       "    <tr>\n",
       "      <th>++B9bivZngfdJdYUFJxtkz1ngsqBJgkwXLL/MUpDZ54=</th>\n",
       "      <th>261116.pickle</th>\n",
       "      <td>0</td>\n",
       "    </tr>\n",
       "    <tr>\n",
       "      <th>++E1waHrjSGFrLK4FgYHlaQgZ22Fn2fuoc929CTPtlA=</th>\n",
       "      <th>28122016.pickle</th>\n",
       "      <td>0</td>\n",
       "    </tr>\n",
       "    <tr>\n",
       "      <th>++EX7OEtJz+hvd7VXRkcZINs+guDwpHq7ahe/o99E1o=</th>\n",
       "      <th>28122016.pickle</th>\n",
       "      <td>1</td>\n",
       "    </tr>\n",
       "    <tr>\n",
       "      <th>++Eeql+swB2zfZ3UGAetfo3t14NcnSZiMfIFrl/C+YY=</th>\n",
       "      <th>28122016.pickle</th>\n",
       "      <td>0</td>\n",
       "    </tr>\n",
       "    <tr>\n",
       "      <th rowspan=\"2\" valign=\"top\">++Eictrlt63fxhzSCquIj9BdTchtKMAnlYJg/8Hvn9U=</th>\n",
       "      <th>230916.pickle</th>\n",
       "      <td>0</td>\n",
       "    </tr>\n",
       "    <tr>\n",
       "      <th>28122016.pickle</th>\n",
       "      <td>0</td>\n",
       "    </tr>\n",
       "    <tr>\n",
       "      <th>++Ey9k0xDW0H7JCc8efy3t5lxegcKbx4gO0MpOp67KU=</th>\n",
       "      <th>230916.pickle</th>\n",
       "      <td>0</td>\n",
       "    </tr>\n",
       "    <tr>\n",
       "      <th>++GjRRRL6zhb+3WNiXn21L9cAWlsWlvC9UZQM+rIoQM=</th>\n",
       "      <th>28122016.pickle</th>\n",
       "      <td>1</td>\n",
       "    </tr>\n",
       "    <tr>\n",
       "      <th>++H/4/UOuPx8a7Oj7mx8f0FyANbXI4y1N/MxipwcztE=</th>\n",
       "      <th>261116.pickle</th>\n",
       "      <td>0</td>\n",
       "    </tr>\n",
       "    <tr>\n",
       "      <th>++I1wsXaVBTTZE3gwzQ5qBWLcMMCxSInWe2pLsJ8hS4=</th>\n",
       "      <th>230916.pickle</th>\n",
       "      <td>0</td>\n",
       "    </tr>\n",
       "    <tr>\n",
       "      <th>++I94Aiv+nh1rYBASjLFRdXoY3dfRgvXls8j47/Idhs=</th>\n",
       "      <th>261116.pickle</th>\n",
       "      <td>0</td>\n",
       "    </tr>\n",
       "    <tr>\n",
       "      <th>++IaTtvm/GSYW/IpwEWZMsa2VC2/AVLtMdOlUmCkS1A=</th>\n",
       "      <th>230916.pickle</th>\n",
       "      <td>0</td>\n",
       "    </tr>\n",
       "    <tr>\n",
       "      <th>++IfZCXYRIiNalGnmbcGW96v6kAwqQO51Sr7dlhIV34=</th>\n",
       "      <th>28122016.pickle</th>\n",
       "      <td>1</td>\n",
       "    </tr>\n",
       "    <tr>\n",
       "      <th>++IrpeciSQ6NWOp78CLvSLjcJVwBecNHnYzvOrxFAPE=</th>\n",
       "      <th>28122016.pickle</th>\n",
       "      <td>0</td>\n",
       "    </tr>\n",
       "    <tr>\n",
       "      <th>++J6eDsAoYFZXIODPv/XmsE/fm0BJoF01muJZDeTp2s=</th>\n",
       "      <th>251016.pickle</th>\n",
       "      <td>0</td>\n",
       "    </tr>\n",
       "    <tr>\n",
       "      <th>++KZNQfLUxE4L3Z5w8ile+Gyf4JSpMGcDVEOez8yFss=</th>\n",
       "      <th>28122016.pickle</th>\n",
       "      <td>0</td>\n",
       "    </tr>\n",
       "    <tr>\n",
       "      <th>...</th>\n",
       "      <th>...</th>\n",
       "      <td>...</td>\n",
       "    </tr>\n",
       "    <tr>\n",
       "      <th>zzn71N534GHRRMoFYdqpndghGNm3ynqMBgg5qhjl7BM=</th>\n",
       "      <th>28122016.pickle</th>\n",
       "      <td>0</td>\n",
       "    </tr>\n",
       "    <tr>\n",
       "      <th rowspan=\"2\" valign=\"top\">zznJePTFyauLZ8G2lAUYXvhspQn0VAN8CB38PtdmZYg=</th>\n",
       "      <th>251016.pickle</th>\n",
       "      <td>1</td>\n",
       "    </tr>\n",
       "    <tr>\n",
       "      <th>28122016.pickle</th>\n",
       "      <td>0</td>\n",
       "    </tr>\n",
       "    <tr>\n",
       "      <th>zznXbp+jDGbzzxqPnElAnWyP7OW8q6OrzlXmeIDdjKE=</th>\n",
       "      <th>28122016.pickle</th>\n",
       "      <td>0</td>\n",
       "    </tr>\n",
       "    <tr>\n",
       "      <th>zznft/lxrrgmcssR8d+tnphPOyNNzwPtjIhVJKNfz1A=</th>\n",
       "      <th>251016.pickle</th>\n",
       "      <td>0</td>\n",
       "    </tr>\n",
       "    <tr>\n",
       "      <th>zznwTOyw0n8iXepiU87BCrAJmaZFcS/WLh6U6iWk0nQ=</th>\n",
       "      <th>251016.pickle</th>\n",
       "      <td>0</td>\n",
       "    </tr>\n",
       "    <tr>\n",
       "      <th>zzoADz+Wl+2t/T3Fv3lTaKUJPIzRGC+Kdxlr6gEeRts=</th>\n",
       "      <th>230916.pickle</th>\n",
       "      <td>0</td>\n",
       "    </tr>\n",
       "    <tr>\n",
       "      <th>zzoaEw67A/0C1+4/RgRCBOVK+zsL1xJTMJMTdF42FxM=</th>\n",
       "      <th>251016.pickle</th>\n",
       "      <td>0</td>\n",
       "    </tr>\n",
       "    <tr>\n",
       "      <th>zzp82VrPy9gInxLMSiKbNabqmg0CMVbu4WcmV3AACLU=</th>\n",
       "      <th>28122016.pickle</th>\n",
       "      <td>0</td>\n",
       "    </tr>\n",
       "    <tr>\n",
       "      <th>zzpTXKXmUXusfh8lgKDrPLEdQyNOvxl4a+PE0CwQIQU=</th>\n",
       "      <th>261116.pickle</th>\n",
       "      <td>1</td>\n",
       "    </tr>\n",
       "    <tr>\n",
       "      <th>zzpo2rWUr3XEYOwmBSKmGC1WWe9PEYrovc8vPmnz7u0=</th>\n",
       "      <th>261116.pickle</th>\n",
       "      <td>0</td>\n",
       "    </tr>\n",
       "    <tr>\n",
       "      <th>zzq/9XnFWkc1Nm0IyybmLSitecR+bJLYrPFYU5HzS34=</th>\n",
       "      <th>261116.pickle</th>\n",
       "      <td>0</td>\n",
       "    </tr>\n",
       "    <tr>\n",
       "      <th>zzqbOn91vL3L5SfiaPwxcNBSd80jTRmsKq5qgMbMOzk=</th>\n",
       "      <th>261116.pickle</th>\n",
       "      <td>0</td>\n",
       "    </tr>\n",
       "    <tr>\n",
       "      <th>zzr5liRwTqKos2ixOAGFprAlMCDnw4fsj7WpspAi+8U=</th>\n",
       "      <th>28122016.pickle</th>\n",
       "      <td>0</td>\n",
       "    </tr>\n",
       "    <tr>\n",
       "      <th>zzrbAK3qvnjXEc1KydPRiR/vhamJG07Ky853iZ1oshk=</th>\n",
       "      <th>28122016.pickle</th>\n",
       "      <td>0</td>\n",
       "    </tr>\n",
       "    <tr>\n",
       "      <th>zzrwUzpM5ltYq/xjrAis0KQQAEUBE6IcBPiqFkVu2Bc=</th>\n",
       "      <th>261116.pickle</th>\n",
       "      <td>0</td>\n",
       "    </tr>\n",
       "    <tr>\n",
       "      <th>zzsT+vU7Wj4Qud5+SGvRq73/TKJwg2om02PmwAvLv80=</th>\n",
       "      <th>261116.pickle</th>\n",
       "      <td>0</td>\n",
       "    </tr>\n",
       "    <tr>\n",
       "      <th>zztGcSZznx0uMBvc0fTQVTfCzeS7Ho/otO2L/4FXs/w=</th>\n",
       "      <th>28122016.pickle</th>\n",
       "      <td>1</td>\n",
       "    </tr>\n",
       "    <tr>\n",
       "      <th>zztRJcWGjS31TKylLqMyZK7XaWfiboX8BI0EZpa69io=</th>\n",
       "      <th>261116.pickle</th>\n",
       "      <td>0</td>\n",
       "    </tr>\n",
       "    <tr>\n",
       "      <th rowspan=\"2\" valign=\"top\">zztg1DNR0a6n+9+CXd8WAfNZHsl5VvyYC2ngeXlwpkc=</th>\n",
       "      <th>230916.pickle</th>\n",
       "      <td>1</td>\n",
       "    </tr>\n",
       "    <tr>\n",
       "      <th>261116.pickle</th>\n",
       "      <td>0</td>\n",
       "    </tr>\n",
       "    <tr>\n",
       "      <th>zzuk5G4az25inA2SSOFkTU95ECb5ysZ8hVhLSBFrmrE=</th>\n",
       "      <th>261116.pickle</th>\n",
       "      <td>0</td>\n",
       "    </tr>\n",
       "    <tr>\n",
       "      <th>zzutBQPXvB2fx0NdEGqJ1heuoI0S6ab0xaX5sph0SyE=</th>\n",
       "      <th>261116.pickle</th>\n",
       "      <td>0</td>\n",
       "    </tr>\n",
       "    <tr>\n",
       "      <th>zzvu4tofjH8jWZ4ubHaMr4K2AB7QARFwzJhcec3TxAU=</th>\n",
       "      <th>261116.pickle</th>\n",
       "      <td>0</td>\n",
       "    </tr>\n",
       "    <tr>\n",
       "      <th>zzwF88qqisz7Hl8mKdD68NhHkKK2jlja10VNpsdWiZI=</th>\n",
       "      <th>261116.pickle</th>\n",
       "      <td>0</td>\n",
       "    </tr>\n",
       "    <tr>\n",
       "      <th>zzx9r9Hc2SzisoCkp5i+oDZqRURAwMwVggtTafCMAvE=</th>\n",
       "      <th>261116.pickle</th>\n",
       "      <td>0</td>\n",
       "    </tr>\n",
       "    <tr>\n",
       "      <th>zzxa/wrL2Ak1YxYqv218iF0XehDkxTzWkdaeXjx3jw0=</th>\n",
       "      <th>230916.pickle</th>\n",
       "      <td>0</td>\n",
       "    </tr>\n",
       "    <tr>\n",
       "      <th>zzyuTnRVQQGxs0UN8qzU2Pedh3z8F7UeoiQpNhJRomM=</th>\n",
       "      <th>261116.pickle</th>\n",
       "      <td>0</td>\n",
       "    </tr>\n",
       "    <tr>\n",
       "      <th>zzz/5bh+8EOZTpIRKWiiaAwEH4uYwfDUaiahJlvABiQ=</th>\n",
       "      <th>230916.pickle</th>\n",
       "      <td>0</td>\n",
       "    </tr>\n",
       "    <tr>\n",
       "      <th>zzz9+ZF4+GMyt63oU8xfjo1EkvRqH5OINlES0RUJI6I=</th>\n",
       "      <th>261116.pickle</th>\n",
       "      <td>0</td>\n",
       "    </tr>\n",
       "  </tbody>\n",
       "</table>\n",
       "<p>496219 rows × 1 columns</p>\n",
       "</div>"
      ],
      "text/plain": [
       "                                                              ind\n",
       "msno                                         index2              \n",
       "+++FOrTS7ab3tIgIh8eWwX4FqRv8w/FoiOuyXsFvphY= 230916.pickle      0\n",
       "++02XbtviomSxcIBUHMOiJkjRxdicTXSfiVqLdsr5lo= 28122016.pickle    0\n",
       "++096narOxHnDPtbtUtB4WDqDy8EJacQypdqDYBHmmY= 28122016.pickle    0\n",
       "++0GCV3WGMjibrwCnDuVZXMoIxs1mnMRaD7rFJFU2Ho= 28122016.pickle    0\n",
       "++0JQqGo/czgqG5qCY31TYkzV7WUMf2QWAS+OeIs//o= 28122016.pickle    0\n",
       "++0XxUiOHZeYOgVDnJlFiXIp3Y7l+x4NLlaSEMOBrFI= 28122016.pickle    0\n",
       "++1eOqCPRmzyBjMGvAJEaurjI1AFz4Mify6fk2eecbY= 261116.pickle      0\n",
       "++2KAIaZigu6bS4t+s7o/TS1Ki6IVWZBnJCh5day67c= 28122016.pickle    0\n",
       "++4qZOZ7rISM4nY9xcUVPweG0A4Z12cGwzjZHmRzr3g= 261116.pickle      0\n",
       "++5HPICzApqAq9mYdGB/mdke0MbubM8yUKLOmrPt4xU= 251016.pickle      0\n",
       "++5vjwrUMXiUOMeSWZdoW8RNHI2XbJRjv4E1e4vWCAI= 261116.pickle      0\n",
       "++9pNNV1bCjmpCZ3tQl588RnLNb+KqT69giup8n+aBo= 230916.pickle      0\n",
       "++AH7m/EQ4iKe6wSlfO/xXAJx50p+fCeTyF90GoE9Pg= 230916.pickle      1\n",
       "                                             251016.pickle      1\n",
       "++B9bivZngfdJdYUFJxtkz1ngsqBJgkwXLL/MUpDZ54= 261116.pickle      0\n",
       "++E1waHrjSGFrLK4FgYHlaQgZ22Fn2fuoc929CTPtlA= 28122016.pickle    0\n",
       "++EX7OEtJz+hvd7VXRkcZINs+guDwpHq7ahe/o99E1o= 28122016.pickle    1\n",
       "++Eeql+swB2zfZ3UGAetfo3t14NcnSZiMfIFrl/C+YY= 28122016.pickle    0\n",
       "++Eictrlt63fxhzSCquIj9BdTchtKMAnlYJg/8Hvn9U= 230916.pickle      0\n",
       "                                             28122016.pickle    0\n",
       "++Ey9k0xDW0H7JCc8efy3t5lxegcKbx4gO0MpOp67KU= 230916.pickle      0\n",
       "++GjRRRL6zhb+3WNiXn21L9cAWlsWlvC9UZQM+rIoQM= 28122016.pickle    1\n",
       "++H/4/UOuPx8a7Oj7mx8f0FyANbXI4y1N/MxipwcztE= 261116.pickle      0\n",
       "++I1wsXaVBTTZE3gwzQ5qBWLcMMCxSInWe2pLsJ8hS4= 230916.pickle      0\n",
       "++I94Aiv+nh1rYBASjLFRdXoY3dfRgvXls8j47/Idhs= 261116.pickle      0\n",
       "++IaTtvm/GSYW/IpwEWZMsa2VC2/AVLtMdOlUmCkS1A= 230916.pickle      0\n",
       "++IfZCXYRIiNalGnmbcGW96v6kAwqQO51Sr7dlhIV34= 28122016.pickle    1\n",
       "++IrpeciSQ6NWOp78CLvSLjcJVwBecNHnYzvOrxFAPE= 28122016.pickle    0\n",
       "++J6eDsAoYFZXIODPv/XmsE/fm0BJoF01muJZDeTp2s= 251016.pickle      0\n",
       "++KZNQfLUxE4L3Z5w8ile+Gyf4JSpMGcDVEOez8yFss= 28122016.pickle    0\n",
       "...                                                           ...\n",
       "zzn71N534GHRRMoFYdqpndghGNm3ynqMBgg5qhjl7BM= 28122016.pickle    0\n",
       "zznJePTFyauLZ8G2lAUYXvhspQn0VAN8CB38PtdmZYg= 251016.pickle      1\n",
       "                                             28122016.pickle    0\n",
       "zznXbp+jDGbzzxqPnElAnWyP7OW8q6OrzlXmeIDdjKE= 28122016.pickle    0\n",
       "zznft/lxrrgmcssR8d+tnphPOyNNzwPtjIhVJKNfz1A= 251016.pickle      0\n",
       "zznwTOyw0n8iXepiU87BCrAJmaZFcS/WLh6U6iWk0nQ= 251016.pickle      0\n",
       "zzoADz+Wl+2t/T3Fv3lTaKUJPIzRGC+Kdxlr6gEeRts= 230916.pickle      0\n",
       "zzoaEw67A/0C1+4/RgRCBOVK+zsL1xJTMJMTdF42FxM= 251016.pickle      0\n",
       "zzp82VrPy9gInxLMSiKbNabqmg0CMVbu4WcmV3AACLU= 28122016.pickle    0\n",
       "zzpTXKXmUXusfh8lgKDrPLEdQyNOvxl4a+PE0CwQIQU= 261116.pickle      1\n",
       "zzpo2rWUr3XEYOwmBSKmGC1WWe9PEYrovc8vPmnz7u0= 261116.pickle      0\n",
       "zzq/9XnFWkc1Nm0IyybmLSitecR+bJLYrPFYU5HzS34= 261116.pickle      0\n",
       "zzqbOn91vL3L5SfiaPwxcNBSd80jTRmsKq5qgMbMOzk= 261116.pickle      0\n",
       "zzr5liRwTqKos2ixOAGFprAlMCDnw4fsj7WpspAi+8U= 28122016.pickle    0\n",
       "zzrbAK3qvnjXEc1KydPRiR/vhamJG07Ky853iZ1oshk= 28122016.pickle    0\n",
       "zzrwUzpM5ltYq/xjrAis0KQQAEUBE6IcBPiqFkVu2Bc= 261116.pickle      0\n",
       "zzsT+vU7Wj4Qud5+SGvRq73/TKJwg2om02PmwAvLv80= 261116.pickle      0\n",
       "zztGcSZznx0uMBvc0fTQVTfCzeS7Ho/otO2L/4FXs/w= 28122016.pickle    1\n",
       "zztRJcWGjS31TKylLqMyZK7XaWfiboX8BI0EZpa69io= 261116.pickle      0\n",
       "zztg1DNR0a6n+9+CXd8WAfNZHsl5VvyYC2ngeXlwpkc= 230916.pickle      1\n",
       "                                             261116.pickle      0\n",
       "zzuk5G4az25inA2SSOFkTU95ECb5ysZ8hVhLSBFrmrE= 261116.pickle      0\n",
       "zzutBQPXvB2fx0NdEGqJ1heuoI0S6ab0xaX5sph0SyE= 261116.pickle      0\n",
       "zzvu4tofjH8jWZ4ubHaMr4K2AB7QARFwzJhcec3TxAU= 261116.pickle      0\n",
       "zzwF88qqisz7Hl8mKdD68NhHkKK2jlja10VNpsdWiZI= 261116.pickle      0\n",
       "zzx9r9Hc2SzisoCkp5i+oDZqRURAwMwVggtTafCMAvE= 261116.pickle      0\n",
       "zzxa/wrL2Ak1YxYqv218iF0XehDkxTzWkdaeXjx3jw0= 230916.pickle      0\n",
       "zzyuTnRVQQGxs0UN8qzU2Pedh3z8F7UeoiQpNhJRomM= 261116.pickle      0\n",
       "zzz/5bh+8EOZTpIRKWiiaAwEH4uYwfDUaiahJlvABiQ= 230916.pickle      0\n",
       "zzz9+ZF4+GMyt63oU8xfjo1EkvRqH5OINlES0RUJI6I= 261116.pickle      0\n",
       "\n",
       "[496219 rows x 1 columns]"
      ]
     },
     "execution_count": 5,
     "metadata": {},
     "output_type": "execute_result"
    }
   ],
   "source": [
    "y.reset_index(inplace=True)\n",
    "\n",
    "X.set_index(['msno','index2'], inplace = True)\n",
    "y.set_index(['msno','index2'], inplace = True)\n",
    "\n",
    "X = X.drop(['join_date','last_exp_date','last_logged','last_trans_date'],axis=1) #removing date variable\n",
    "\n",
    "X.sort_index()\n",
    "y.sort_index()"
   ]
  },
  {
   "cell_type": "code",
   "execution_count": 7,
   "metadata": {},
   "outputs": [],
   "source": [
    "# Splitting the dataset into the Training set and Test set\n",
    "from sklearn.model_selection import train_test_split\n",
    "X_train, X_test, y_train, y_test = train_test_split(X, y, test_size = 0.25, random_state = 0)"
   ]
  },
  {
   "cell_type": "code",
   "execution_count": 8,
   "metadata": {},
   "outputs": [
    {
     "name": "stdout",
     "output_type": "stream",
     "text": [
      "Train set                 ind\n",
      "count  372164.000000\n",
      "mean        0.190215\n",
      "std         0.392471\n",
      "min         0.000000\n",
      "25%         0.000000\n",
      "50%         0.000000\n",
      "75%         0.000000\n",
      "max         1.000000\n",
      "Test set                 ind\n",
      "count  124055.000000\n",
      "mean        0.191729\n",
      "std         0.393663\n",
      "min         0.000000\n",
      "25%         0.000000\n",
      "50%         0.000000\n",
      "75%         0.000000\n",
      "max         1.000000\n"
     ]
    }
   ],
   "source": [
    "print(\"Train set\" + str(y_train.describe()))\n",
    "print(\"Test set\" + str(y_test.describe()))"
   ]
  },
  {
   "cell_type": "markdown",
   "metadata": {},
   "source": [
    "## define the classification methods\n",
    "### LR - logistic regression, DT decision tree, RF - Random forest, NN - Neural network, XG - XGboost"
   ]
  },
  {
   "cell_type": "code",
   "execution_count": 18,
   "metadata": {},
   "outputs": [],
   "source": [
    "#Logistic regression\n",
    "def LR (X_train_lrclf,y_train_lrclf,X_test_lrclf,y_test_lrclf):\n",
    "    from sklearn.linear_model import LogisticRegression\n",
    "    lrf = LogisticRegression(C=1e5,n_jobs=-1)\n",
    "    lrf.fit(X_train_lrclf,y_train_lrclf)\n",
    "    y_test_pred = lrf.predict(X_test_lrclf)\n",
    "    cm = sk.metrics.confusion_matrix(y_test_lrclf,y_test_pred)/len(y_test_lrclf)\n",
    "    return cm, (cm[0,0]  +cm[1,1]), y_test_pred,lrf\n",
    "\n",
    "\n",
    "def DT(X_train_dtclf,y_train_dtclf,X_test_dtclf,y_test_dtclf):\n",
    "    from sklearn.tree import DecisionTreeClassifier \n",
    "    from sklearn import tree\n",
    "    tclf = DecisionTreeClassifier()\n",
    "    tclf.fit(X_train_dtclf,y_train_dtclf)\n",
    "    y_test_pred = tclf.predict(X_test_dtclf)\n",
    "    cm = sk.metrics.confusion_matrix(y_test_dtclf,y_test_pred)/len(y_test_dtclf)\n",
    "    return cm, (cm[0,0]  +cm[1,1]),y_test_pred,tclf   #Accuracy 0.8831\n",
    "\n",
    "def RF(X_train_rfclf,y_train_rfclf,X_test_rfclf,y_test_rfclf):\n",
    "    from sklearn.ensemble import RandomForestClassifier\n",
    "    rfclf = RandomForestClassifier(n_estimators=50, n_jobs=-1)\n",
    "    rfclf.fit(X_train_rfclf, y_train_rfclf)\n",
    "    y_test_pred = rfclf.predict(X_test_rfclf)\n",
    "    cm = sk.metrics.confusion_matrix(y_test_rfclf,y_test_pred)/len(y_test_rfclf)\n",
    "    return cm, (cm[0,0]  +cm[1,1]), y_test_pred,rfclf #sensitivity 0.9001\n",
    "\n",
    "def NN (X_train_nnclf,y_train_nnclf,X_test_nnclf,y_test_nnclf):\n",
    "    from sklearn.neural_network import MLPClassifier\n",
    "    nnclf = MLPClassifier(hidden_layer_sizes = [20], solver='lbfgs',\n",
    "                          random_state = 0).fit(X_train_nnclf, y_train_nnclf) \n",
    "    y_test_predict_nn = nnclf.predict(X_test_nnclf)\n",
    "    cm = sk.metrics.confusion_matrix(y_test_nnclf,y_test_predict_nn)/len(y_test_nnclf)\n",
    "    (cm[0,0]  +cm[1,1]) #sensitivity 0.8985\n",
    "    return cm, (cm[0,0]  +cm[1,1]), y_test_predict_nn,nnclf\n",
    "\n",
    "def XG (X_train_xgclf,y_train_xgclf,X_test_xgclf,y_test_xgclf):\n",
    "    from xgboost import XGBClassifier\n",
    "    xgbclf = XGBClassifier(n_jobs=-1)\n",
    "    xgbclf.fit(X_train_xgclf,y_train_xgclf)\n",
    "    y_test_predict_xgb = xgbclf.predict(X_test_xgclf)\n",
    "    cm = sk.metrics.confusion_matrix(y_test_xgclf,y_test_predict_xgb)/len(y_test_xgclf)\n",
    "    (cm[0,0]  +cm[1,1]) #accuracy 0.8956\n",
    "    return cm,(cm[0,0]  +cm[1,1]),y_test_predict_xgb,xgbclf"
   ]
  },
  {
   "cell_type": "markdown",
   "metadata": {},
   "source": [
    "## Standard scaling the data (important for NN, LR)"
   ]
  },
  {
   "cell_type": "code",
   "execution_count": 14,
   "metadata": {},
   "outputs": [],
   "source": [
    "from sklearn.preprocessing import StandardScaler\n",
    "sc = StandardScaler()\n",
    "X_train = sc.fit_transform(X_train)\n",
    "X_test = sc.transform(X_test)"
   ]
  },
  {
   "cell_type": "code",
   "execution_count": 39,
   "metadata": {},
   "outputs": [
    {
     "name": "stderr",
     "output_type": "stream",
     "text": [
      "C:\\Users\\u_niv\\Anaconda3\\lib\\site-packages\\sklearn\\preprocessing\\data.py:625: DataConversionWarning: Data with input dtype uint8, int64, float64 were all converted to float64 by StandardScaler.\n",
      "  return self.partial_fit(X, y)\n",
      "C:\\Users\\u_niv\\Anaconda3\\lib\\site-packages\\sklearn\\base.py:462: DataConversionWarning: Data with input dtype uint8, int64, float64 were all converted to float64 by StandardScaler.\n",
      "  return self.fit(X, **fit_params).transform(X)\n"
     ]
    }
   ],
   "source": [
    "# Scaling X as well for cross validation\n",
    "X = sc.fit_transform(X)"
   ]
  },
  {
   "cell_type": "markdown",
   "metadata": {},
   "source": [
    "## Compare results classifiers on Test group\n",
    "## The indexes we will use:\n",
    "### Accuracy - the portion of classified rows which were accuratly classifed\n",
    "### AUC - Because the portion of churners is low (under 20%) and there there's an importance of deciding the threshold point\n",
    "### We will also give higher importance to TP over FP because we assume that the cost of offer that will be offered to users who were not going to churn has benefits and will be cheap (for instance, 50% off your next subscription)"
   ]
  },
  {
   "cell_type": "markdown",
   "metadata": {},
   "source": [
    "# First Phase - we will run all 5 classifiers with their default settings and then decide with which one we will proceed to calibrate\n",
    "# Logistic Regression"
   ]
  },
  {
   "cell_type": "code",
   "execution_count": 19,
   "metadata": {},
   "outputs": [
    {
     "name": "stderr",
     "output_type": "stream",
     "text": [
      "C:\\Users\\u_niv\\Anaconda3\\lib\\site-packages\\sklearn\\linear_model\\logistic.py:433: FutureWarning: Default solver will be changed to 'lbfgs' in 0.22. Specify a solver to silence this warning.\n",
      "  FutureWarning)\n",
      "C:\\Users\\u_niv\\Anaconda3\\lib\\site-packages\\sklearn\\utils\\validation.py:761: DataConversionWarning: A column-vector y was passed when a 1d array was expected. Please change the shape of y to (n_samples, ), for example using ravel().\n",
      "  y = column_or_1d(y, warn=True)\n",
      "C:\\Users\\u_niv\\Anaconda3\\lib\\site-packages\\sklearn\\linear_model\\logistic.py:1297: UserWarning: 'n_jobs' > 1 does not have any effect when 'solver' is set to 'liblinear'. Got 'n_jobs' = 8.\n",
      "  \" = {}.\".format(effective_n_jobs(self.n_jobs)))\n"
     ]
    }
   ],
   "source": [
    "cm,accuracy,y_test_predict,lrclf = LR(X_train,y_train,X_test,y_test)"
   ]
  },
  {
   "cell_type": "code",
   "execution_count": 26,
   "metadata": {},
   "outputs": [
    {
     "name": "stdout",
     "output_type": "stream",
     "text": [
      "[[0.77859014 0.02968038]\n",
      " [0.08712265 0.10460683]]\n",
      "Accuracy = 0.8831969690862923\n",
      "AUC = 0.7544375550738673\n"
     ]
    }
   ],
   "source": [
    "print(cm)\n",
    "print('Accuracy = ' + str(accuracy))\n",
    "fpr, tpr, thresholds = metrics.roc_curve(y_test, y_test_predict)\n",
    "print ('AUC = ' + str(metrics.auc(fpr, tpr)))"
   ]
  },
  {
   "cell_type": "markdown",
   "metadata": {},
   "source": [
    "### Cross validation Logistic regression"
   ]
  },
  {
   "cell_type": "code",
   "execution_count": 40,
   "metadata": {},
   "outputs": [
    {
     "name": "stderr",
     "output_type": "stream",
     "text": [
      "[Parallel(n_jobs=-1)]: Using backend LokyBackend with 8 concurrent workers.\n",
      "[Parallel(n_jobs=-1)]: Done   6 out of  10 | elapsed: 18.8min remaining: 12.6min\n",
      "[Parallel(n_jobs=-1)]: Done  10 out of  10 | elapsed: 25.0min finished\n"
     ]
    },
    {
     "ename": "TypeError",
     "evalue": "cross_val_score() missing 2 required positional arguments: 'estimator' and 'X'",
     "output_type": "error",
     "traceback": [
      "\u001b[1;31m---------------------------------------------------------------------------\u001b[0m",
      "\u001b[1;31mTypeError\u001b[0m                                 Traceback (most recent call last)",
      "\u001b[1;32m<ipython-input-40-91a0fdb621e1>\u001b[0m in \u001b[0;36m<module>\u001b[1;34m\u001b[0m\n\u001b[0;32m      1\u001b[0m \u001b[0mscores\u001b[0m \u001b[1;33m=\u001b[0m \u001b[0mcross_val_score\u001b[0m\u001b[1;33m(\u001b[0m\u001b[0mlrclf\u001b[0m\u001b[1;33m,\u001b[0m \u001b[0mX\u001b[0m\u001b[1;33m,\u001b[0m \u001b[0my\u001b[0m\u001b[1;33m,\u001b[0m \u001b[0mcv\u001b[0m\u001b[1;33m=\u001b[0m\u001b[1;36m10\u001b[0m\u001b[1;33m,\u001b[0m\u001b[0mn_jobs\u001b[0m\u001b[1;33m=\u001b[0m\u001b[1;33m-\u001b[0m\u001b[1;36m1\u001b[0m\u001b[1;33m,\u001b[0m\u001b[0mverbose\u001b[0m \u001b[1;33m=\u001b[0m\u001b[1;36m1\u001b[0m\u001b[1;33m)\u001b[0m\u001b[1;33m\u001b[0m\u001b[1;33m\u001b[0m\u001b[0m\n\u001b[1;32m----> 2\u001b[1;33m \u001b[0mprint\u001b[0m\u001b[1;33m(\u001b[0m\u001b[1;34m'Cross Validation score for Logistic Regression: '\u001b[0m\u001b[1;33m+\u001b[0m \u001b[0mstr\u001b[0m\u001b[1;33m(\u001b[0m\u001b[0mcross_val_score\u001b[0m\u001b[1;33m(\u001b[0m\u001b[1;33m)\u001b[0m\u001b[1;33m)\u001b[0m\u001b[1;33m)\u001b[0m\u001b[1;33m\u001b[0m\u001b[1;33m\u001b[0m\u001b[0m\n\u001b[0m\u001b[0;32m      3\u001b[0m \u001b[0mprint\u001b[0m \u001b[1;33m(\u001b[0m\u001b[1;34m'Mean Cross validation score: '\u001b[0m \u001b[1;33m+\u001b[0m\u001b[0mstr\u001b[0m\u001b[1;33m(\u001b[0m\u001b[0mscores\u001b[0m\u001b[1;33m.\u001b[0m\u001b[0mmean\u001b[0m\u001b[1;33m(\u001b[0m\u001b[1;33m)\u001b[0m\u001b[1;33m)\u001b[0m\u001b[1;33m)\u001b[0m\u001b[1;33m\u001b[0m\u001b[1;33m\u001b[0m\u001b[0m\n\u001b[0;32m      4\u001b[0m \u001b[0mprint\u001b[0m \u001b[1;33m(\u001b[0m\u001b[1;34m'STD Cross validation score: '\u001b[0m \u001b[1;33m+\u001b[0m\u001b[0mstr\u001b[0m\u001b[1;33m(\u001b[0m\u001b[0mscores\u001b[0m\u001b[1;33m.\u001b[0m\u001b[0mstd\u001b[0m\u001b[1;33m(\u001b[0m\u001b[1;33m)\u001b[0m\u001b[1;33m)\u001b[0m\u001b[1;33m)\u001b[0m\u001b[1;33m\u001b[0m\u001b[1;33m\u001b[0m\u001b[0m\n",
      "\u001b[1;31mTypeError\u001b[0m: cross_val_score() missing 2 required positional arguments: 'estimator' and 'X'"
     ]
    }
   ],
   "source": [
    "scores = cross_val_score(lrclf, X, y, cv=10,n_jobs=-1,verbose =1)\n",
    "print('Cross Validation score for Logistic Regression: '+ str(cross_val_score()))\n",
    "print ('Mean Cross validation score: ' +str(scores.mean()))\n",
    "print ('STD Cross validation score: ' +str(scores.std()))"
   ]
  },
  {
   "cell_type": "code",
   "execution_count": 41,
   "metadata": {},
   "outputs": [
    {
     "data": {
      "text/plain": [
       "0.8830721337595143"
      ]
     },
     "execution_count": 41,
     "metadata": {},
     "output_type": "execute_result"
    }
   ],
   "source": [
    "scores.mean()"
   ]
  },
  {
   "cell_type": "code",
   "execution_count": 42,
   "metadata": {},
   "outputs": [
    {
     "data": {
      "text/plain": [
       "0.024981954039208734"
      ]
     },
     "execution_count": 42,
     "metadata": {},
     "output_type": "execute_result"
    }
   ],
   "source": [
    "scores.std()"
   ]
  },
  {
   "cell_type": "markdown",
   "metadata": {},
   "source": [
    "# Decision tree"
   ]
  },
  {
   "cell_type": "code",
   "execution_count": 31,
   "metadata": {},
   "outputs": [],
   "source": [
    "cm,accuracy,y_test_predict,dtclf = DT(X_train,y_train,X_test,y_test)\n"
   ]
  },
  {
   "cell_type": "code",
   "execution_count": 32,
   "metadata": {
    "scrolled": true
   },
   "outputs": [
    {
     "name": "stdout",
     "output_type": "stream",
     "text": [
      "[[0.73340857 0.07486196]\n",
      " [0.06884849 0.12288098]]\n",
      "Accuracy = 0.8562895489903671\n",
      "AUC = 0.7741441045900894\n"
     ]
    }
   ],
   "source": [
    "print(cm)\n",
    "print('Accuracy = ' + str(accuracy))\n",
    "fpr, tpr, thresholds = metrics.roc_curve(y_test, y_test_predict)\n",
    "print ('AUC = ' + str(metrics.auc(fpr, tpr)))"
   ]
  },
  {
   "cell_type": "code",
   "execution_count": 44,
   "metadata": {},
   "outputs": [
    {
     "name": "stderr",
     "output_type": "stream",
     "text": [
      "[Parallel(n_jobs=-1)]: Using backend LokyBackend with 8 concurrent workers.\n",
      "[Parallel(n_jobs=-1)]: Done   6 out of  10 | elapsed:  1.8min remaining:  1.2min\n",
      "[Parallel(n_jobs=-1)]: Done  10 out of  10 | elapsed:  2.4min finished\n"
     ]
    }
   ],
   "source": [
    "scores = cross_val_score(dtclf, X, y, cv=10,n_jobs=-1,verbose =1)"
   ]
  },
  {
   "cell_type": "code",
   "execution_count": 45,
   "metadata": {},
   "outputs": [
    {
     "data": {
      "text/plain": [
       "0.8565597512043409"
      ]
     },
     "execution_count": 45,
     "metadata": {},
     "output_type": "execute_result"
    }
   ],
   "source": [
    "scores.mean()"
   ]
  },
  {
   "cell_type": "code",
   "execution_count": 46,
   "metadata": {},
   "outputs": [
    {
     "data": {
      "text/plain": [
       "0.03327940751593931"
      ]
     },
     "execution_count": 46,
     "metadata": {},
     "output_type": "execute_result"
    }
   ],
   "source": [
    "scores.std()"
   ]
  },
  {
   "cell_type": "markdown",
   "metadata": {},
   "source": [
    "# Radom Forest"
   ]
  },
  {
   "cell_type": "code",
   "execution_count": 33,
   "metadata": {
    "scrolled": true
   },
   "outputs": [
    {
     "name": "stderr",
     "output_type": "stream",
     "text": [
      "C:\\Users\\u_niv\\Anaconda3\\lib\\site-packages\\ipykernel_launcher.py:23: DataConversionWarning: A column-vector y was passed when a 1d array was expected. Please change the shape of y to (n_samples,), for example using ravel().\n"
     ]
    }
   ],
   "source": [
    "cm,accuracy,y_test_predict,rfclf = RF(X_train,y_train,X_test,y_test)"
   ]
  },
  {
   "cell_type": "code",
   "execution_count": 47,
   "metadata": {},
   "outputs": [
    {
     "name": "stderr",
     "output_type": "stream",
     "text": [
      "[Parallel(n_jobs=-1)]: Using backend LokyBackend with 8 concurrent workers.\n",
      "[Parallel(n_jobs=-1)]: Done   6 out of  10 | elapsed:  6.2min remaining:  4.1min\n",
      "[Parallel(n_jobs=-1)]: Done  10 out of  10 | elapsed:  7.7min finished\n"
     ]
    }
   ],
   "source": [
    "scores = cross_val_score(rfclf, X, y, cv=10,n_jobs=-1,verbose =1)"
   ]
  },
  {
   "cell_type": "code",
   "execution_count": 48,
   "metadata": {},
   "outputs": [
    {
     "data": {
      "text/plain": [
       "0.900598663550309"
      ]
     },
     "execution_count": 48,
     "metadata": {},
     "output_type": "execute_result"
    }
   ],
   "source": [
    "scores.mean()"
   ]
  },
  {
   "cell_type": "code",
   "execution_count": 49,
   "metadata": {},
   "outputs": [
    {
     "data": {
      "text/plain": [
       "0.022871037003736848"
      ]
     },
     "execution_count": 49,
     "metadata": {},
     "output_type": "execute_result"
    }
   ],
   "source": [
    "scores.std()"
   ]
  },
  {
   "cell_type": "code",
   "execution_count": 34,
   "metadata": {},
   "outputs": [
    {
     "name": "stdout",
     "output_type": "stream",
     "text": [
      "[[0.78242715 0.02584338]\n",
      " [0.07372536 0.11800411]]\n",
      "Accuracy = 0.9004312603280803\n",
      "AUC = 0.7917491325030575\n"
     ]
    }
   ],
   "source": [
    "print(cm)\n",
    "print('Accuracy = ' + str(accuracy))\n",
    "fpr, tpr, thresholds = metrics.roc_curve(y_test, y_test_predict)\n",
    "print ('AUC = ' + str(metrics.auc(fpr, tpr)))"
   ]
  },
  {
   "cell_type": "markdown",
   "metadata": {},
   "source": [
    "## Neural Network"
   ]
  },
  {
   "cell_type": "code",
   "execution_count": 35,
   "metadata": {},
   "outputs": [
    {
     "name": "stderr",
     "output_type": "stream",
     "text": [
      "C:\\Users\\u_niv\\Anaconda3\\lib\\site-packages\\sklearn\\neural_network\\multilayer_perceptron.py:916: DataConversionWarning: A column-vector y was passed when a 1d array was expected. Please change the shape of y to (n_samples, ), for example using ravel().\n",
      "  y = column_or_1d(y, warn=True)\n"
     ]
    }
   ],
   "source": [
    "cm,accuracy,y_test_predict,nnclf = NN(X_train,y_train,X_test,y_test)"
   ]
  },
  {
   "cell_type": "code",
   "execution_count": 36,
   "metadata": {
    "scrolled": true
   },
   "outputs": [
    {
     "name": "stdout",
     "output_type": "stream",
     "text": [
      "[[0.77938011 0.02889041]\n",
      " [0.0737173  0.11801217]]\n",
      "Accuracy = 0.8973922856797388\n",
      "AUC = 0.78988524341436\n"
     ]
    }
   ],
   "source": [
    "print(cm)\n",
    "print('Accuracy = ' + str(accuracy))\n",
    "fpr, tpr, thresholds = metrics.roc_curve(y_test, y_test_predict)\n",
    "print ('AUC = ' + str(metrics.auc(fpr, tpr)))"
   ]
  },
  {
   "cell_type": "code",
   "execution_count": 50,
   "metadata": {},
   "outputs": [
    {
     "name": "stderr",
     "output_type": "stream",
     "text": [
      "[Parallel(n_jobs=-1)]: Using backend LokyBackend with 8 concurrent workers.\n",
      "[Parallel(n_jobs=-1)]: Done   6 out of  10 | elapsed:  4.9min remaining:  3.2min\n",
      "[Parallel(n_jobs=-1)]: Done  10 out of  10 | elapsed:  6.4min finished\n"
     ]
    }
   ],
   "source": [
    "scores = cross_val_score(nnclf, X, y, cv=10,n_jobs=-1,verbose =1)"
   ]
  },
  {
   "cell_type": "code",
   "execution_count": 51,
   "metadata": {},
   "outputs": [
    {
     "data": {
      "text/plain": [
       "0.8971223660947529"
      ]
     },
     "execution_count": 51,
     "metadata": {},
     "output_type": "execute_result"
    }
   ],
   "source": [
    "scores.mean()"
   ]
  },
  {
   "cell_type": "code",
   "execution_count": 52,
   "metadata": {},
   "outputs": [
    {
     "data": {
      "text/plain": [
       "0.022847488122310064"
      ]
     },
     "execution_count": 52,
     "metadata": {},
     "output_type": "execute_result"
    }
   ],
   "source": [
    "scores.std()"
   ]
  },
  {
   "cell_type": "code",
   "execution_count": 37,
   "metadata": {
    "scrolled": true
   },
   "outputs": [
    {
     "name": "stderr",
     "output_type": "stream",
     "text": [
      "C:\\Users\\u_niv\\Anaconda3\\lib\\site-packages\\sklearn\\preprocessing\\label.py:219: DataConversionWarning: A column-vector y was passed when a 1d array was expected. Please change the shape of y to (n_samples, ), for example using ravel().\n",
      "  y = column_or_1d(y, warn=True)\n",
      "C:\\Users\\u_niv\\Anaconda3\\lib\\site-packages\\sklearn\\preprocessing\\label.py:252: DataConversionWarning: A column-vector y was passed when a 1d array was expected. Please change the shape of y to (n_samples, ), for example using ravel().\n",
      "  y = column_or_1d(y, warn=True)\n"
     ]
    },
    {
     "name": "stdout",
     "output_type": "stream",
     "text": [
      "[[0.78119383 0.0270767 ]\n",
      " [0.0772883  0.11444118]]\n",
      "Accuracy = 0.8956350006045705\n",
      "AUC = 0.7816946221237974\n"
     ]
    }
   ],
   "source": [
    "cm,accuracy,y_test_predict,xgclf = XG(X_train,y_train,X_test,y_test)\n",
    "print(cm)\n",
    "print('Accuracy = ' + str(accuracy))\n",
    "fpr, tpr, thresholds = metrics.roc_curve(y_test, y_test_predict)\n",
    "print ('AUC = ' + str(metrics.auc(fpr, tpr)))"
   ]
  },
  {
   "cell_type": "code",
   "execution_count": 53,
   "metadata": {
    "scrolled": true
   },
   "outputs": [
    {
     "name": "stderr",
     "output_type": "stream",
     "text": [
      "[Parallel(n_jobs=-1)]: Using backend LokyBackend with 8 concurrent workers.\n",
      "[Parallel(n_jobs=-1)]: Done   6 out of  10 | elapsed:  6.0min remaining:  4.0min\n",
      "[Parallel(n_jobs=-1)]: Done  10 out of  10 | elapsed:  7.0min finished\n"
     ]
    }
   ],
   "source": [
    "scores = cross_val_score(xgclf, X, y, cv=10,n_jobs=-1,verbose =1)"
   ]
  },
  {
   "cell_type": "code",
   "execution_count": 54,
   "metadata": {},
   "outputs": [
    {
     "data": {
      "text/plain": [
       "0.8956512384039634"
      ]
     },
     "execution_count": 54,
     "metadata": {},
     "output_type": "execute_result"
    }
   ],
   "source": [
    "scores.mean()"
   ]
  },
  {
   "cell_type": "code",
   "execution_count": 55,
   "metadata": {},
   "outputs": [
    {
     "data": {
      "text/plain": [
       "0.02288392227296447"
      ]
     },
     "execution_count": 55,
     "metadata": {},
     "output_type": "execute_result"
    }
   ],
   "source": [
    "scores.std()"
   ]
  }
 ],
 "metadata": {
  "kernelspec": {
   "display_name": "Python 3",
   "language": "python",
   "name": "python3"
  },
  "language_info": {
   "codemirror_mode": {
    "name": "ipython",
    "version": 3
   },
   "file_extension": ".py",
   "mimetype": "text/x-python",
   "name": "python",
   "nbconvert_exporter": "python",
   "pygments_lexer": "ipython3",
   "version": "3.7.1"
  }
 },
 "nbformat": 4,
 "nbformat_minor": 2
}
